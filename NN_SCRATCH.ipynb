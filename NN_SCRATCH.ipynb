{
  "nbformat": 4,
  "nbformat_minor": 0,
  "metadata": {
    "colab": {
      "name": "NN_SCRATCH.ipynb",
      "version": "0.3.2",
      "provenance": []
    },
    "kernelspec": {
      "name": "python3",
      "display_name": "Python 3"
    }
  },
  "cells": [
    {
      "metadata": {
        "id": "ToBIFXJtESsr",
        "colab_type": "code",
        "colab": {}
      },
      "cell_type": "code",
      "source": [
        "import numpy as  np\n"
      ],
      "execution_count": 0,
      "outputs": []
    },
    {
      "metadata": {
        "id": "uFOJJRpPFHHU",
        "colab_type": "code",
        "colab": {}
      },
      "cell_type": "code",
      "source": [
        "N,D_I,H,D_O=64,1000,100,10 \n",
        "#N=Batch size\n",
        "#D_I=dimension of input\n",
        "#H=hidden layer\n",
        "#o=output layer"
      ],
      "execution_count": 0,
      "outputs": []
    },
    {
      "metadata": {
        "id": "0WdPvibDFZQg",
        "colab_type": "code",
        "colab": {}
      },
      "cell_type": "code",
      "source": [
        "x=np.random.rand(N,D_I)\n",
        "y=np.random.rand(N,D_O)"
      ],
      "execution_count": 0,
      "outputs": []
    },
    {
      "metadata": {
        "id": "Zk9qe4QEFvdK",
        "colab_type": "code",
        "colab": {}
      },
      "cell_type": "code",
      "source": [
        "W1=np.random.rand(D_I,H)\n",
        "W2=np.random.rand(H,D_O)\n",
        "b1=np.random.rand(N,H)\n",
        "b2=np.random.rand(N,D_O)\n",
        "learning_rate = 1e-6\n",
        "loss_s=np.zeros(70)\n",
        "loss_i=np.zeros(70)\n",
        "import matplotlib.pyplot as plt\n"
      ],
      "execution_count": 0,
      "outputs": []
    },
    {
      "metadata": {
        "id": "kZJsd2vwFybQ",
        "colab_type": "code",
        "outputId": "051557cd-cdbd-4491-8f64-d5177a405299",
        "colab": {
          "base_uri": "https://localhost:8080/",
          "height": 527
        }
      },
      "cell_type": "code",
      "source": [
        "\n",
        "for i in range(30):\n",
        "  h=x.dot(W1)+b1\n",
        "  h_relu=np.maximum(h,0)\n",
        "  y_pred=h_relu.dot(W2)+b2\n",
        "  loss=np.square(y_pred-y).sum()/N\n",
        "  print(\"epoch number: {}  training loss : {}\".format(i,loss))\n",
        "  loss_s[i]=loss\n",
        "  loss_i[i]=i\n",
        "  grad_y_pred = 2.0 * (y_pred - y)\n",
        "  grad_w2 = h_relu.T.dot(grad_y_pred)\n",
        "  grad_h_relu = grad_y_pred.dot(W2.T)\n",
        "  grad_h = grad_h_relu.copy()\n",
        "  grad_h[h < 0] = 0\n",
        "  grad_w1 = x.T.dot(grad_h)\n",
        "  W1 -= (learning_rate * grad_w1)\n",
        "  W2 -= (learning_rate * grad_w2)"
      ],
      "execution_count": 58,
      "outputs": [
        {
          "output_type": "stream",
          "text": [
            "epoch number: 0  training loss : 1604350215.8855052\n",
            "epoch number: 1  training loss : 1.6558960709282031\n",
            "epoch number: 2  training loss : 1.6558960709282031\n",
            "epoch number: 3  training loss : 1.6558960709282031\n",
            "epoch number: 4  training loss : 1.6558960709282031\n",
            "epoch number: 5  training loss : 1.6558960709282031\n",
            "epoch number: 6  training loss : 1.6558960709282031\n",
            "epoch number: 7  training loss : 1.6558960709282031\n",
            "epoch number: 8  training loss : 1.6558960709282031\n",
            "epoch number: 9  training loss : 1.6558960709282031\n",
            "epoch number: 10  training loss : 1.6558960709282031\n",
            "epoch number: 11  training loss : 1.6558960709282031\n",
            "epoch number: 12  training loss : 1.6558960709282031\n",
            "epoch number: 13  training loss : 1.6558960709282031\n",
            "epoch number: 14  training loss : 1.6558960709282031\n",
            "epoch number: 15  training loss : 1.6558960709282031\n",
            "epoch number: 16  training loss : 1.6558960709282031\n",
            "epoch number: 17  training loss : 1.6558960709282031\n",
            "epoch number: 18  training loss : 1.6558960709282031\n",
            "epoch number: 19  training loss : 1.6558960709282031\n",
            "epoch number: 20  training loss : 1.6558960709282031\n",
            "epoch number: 21  training loss : 1.6558960709282031\n",
            "epoch number: 22  training loss : 1.6558960709282031\n",
            "epoch number: 23  training loss : 1.6558960709282031\n",
            "epoch number: 24  training loss : 1.6558960709282031\n",
            "epoch number: 25  training loss : 1.6558960709282031\n",
            "epoch number: 26  training loss : 1.6558960709282031\n",
            "epoch number: 27  training loss : 1.6558960709282031\n",
            "epoch number: 28  training loss : 1.6558960709282031\n",
            "epoch number: 29  training loss : 1.6558960709282031\n"
          ],
          "name": "stdout"
        }
      ]
    },
    {
      "metadata": {
        "id": "YZhq7eHrRECr",
        "colab_type": "code",
        "colab": {
          "base_uri": "https://localhost:8080/",
          "height": 377
        },
        "outputId": "01f48acc-ddd1-4de9-eb4e-620f842eb658"
      },
      "cell_type": "code",
      "source": [
        "plt.plot(loss_s,loss_i)"
      ],
      "execution_count": 59,
      "outputs": [
        {
          "output_type": "execute_result",
          "data": {
            "text/plain": [
              "[<matplotlib.lines.Line2D at 0x7f61e70b5208>]"
            ]
          },
          "metadata": {
            "tags": []
          },
          "execution_count": 59
        },
        {
          "output_type": "display_data",
          "data": {
            "image/png": "[encoded data removed]",
            "text/plain": [
              "<Figure size 576x396 with 1 Axes>"
            ]
          },
          "metadata": {
            "tags": []
          }
        }
      ]
    },
    {
      "metadata": {
        "id": "CNkWcxlnKvkT",
        "colab_type": "code",
        "colab": {}
      },
      "cell_type": "code",
      "source": [
        ""
      ],
      "execution_count": 0,
      "outputs": []
    }
  ]
}