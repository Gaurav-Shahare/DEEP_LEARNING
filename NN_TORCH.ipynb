{
  "nbformat": 4,
  "nbformat_minor": 0,
  "metadata": {
    "colab": {
      "name": "NN_TORCH",
      "version": "0.3.2",
      "provenance": []
    },
    "kernelspec": {
      "name": "python3",
      "display_name": "Python 3"
    }
  },
  "cells": [
    {
      "metadata": {
        "id": "72J0WPRRPZZ3",
        "colab_type": "code",
        "colab": {}
      },
      "cell_type": "code",
      "source": [
        "import torch\n",
        "import numpy as np\n",
        "import matplotlib.pyplot as plt\n",
        "loss_s=np.zeros(50)\n",
        "loss_i=np.zeros(50)"
      ],
      "execution_count": 0,
      "outputs": []
    },
    {
      "metadata": {
        "id": "YdR36UQwPfPQ",
        "colab_type": "code",
        "colab": {}
      },
      "cell_type": "code",
      "source": [
        "dtype = torch.float\n",
        "device = torch.device(\"cpu\")"
      ],
      "execution_count": 0,
      "outputs": []
    },
    {
      "metadata": {
        "id": "jPDrcFQiPh1V",
        "colab_type": "code",
        "colab": {}
      },
      "cell_type": "code",
      "source": [
        "N,D_in,H,D_O=64,1000,100,10"
      ],
      "execution_count": 0,
      "outputs": []
    },
    {
      "metadata": {
        "id": "LBFwFwQkPsva",
        "colab_type": "code",
        "colab": {}
      },
      "cell_type": "code",
      "source": [
        "#x=torch.randn(N,D_in,device=device,d_type=dtype)\n",
        "#x = torch.randn(N, D_in, device=device, dtype=dtype)\n",
        "x=torch.randn(N,D_in,device=device,dtype=dtype)\n",
        "y=torch.randn(N,D_O,device=device,dtype=dtype)\n",
        "w1=torch.randn(D_in,H,device=device,dtype=dtype,requires_grad=True)\n",
        "w2=torch.randn(H,D_O,device=device,dtype=dtype,requires_grad=True)"
      ],
      "execution_count": 0,
      "outputs": []
    },
    {
      "metadata": {
        "id": "7IdH9cVhP-rE",
        "colab_type": "code",
        "colab": {
          "base_uri": "https://localhost:8080/",
          "height": 153
        },
        "outputId": "8076c02c-078a-41f3-d0b8-97044fa89d6f"
      },
      "cell_type": "code",
      "source": [
        "learning_rate=1e-6\n",
        "w1"
      ],
      "execution_count": 102,
      "outputs": [
        {
          "output_type": "execute_result",
          "data": {
            "text/plain": [
              "tensor([[ 0.2150,  1.1929,  0.3934,  ..., -0.6764,  0.2005, -0.2530],\n",
              "        [ 0.4429, -1.0158, -0.1605,  ...,  0.0497, -0.8016, -1.2877],\n",
              "        [ 0.3408, -1.8316, -1.2660,  ...,  0.8068,  1.0758,  0.2069],\n",
              "        ...,\n",
              "        [-0.9915, -0.2041, -0.6968,  ...,  0.9961,  1.6110, -0.1959],\n",
              "        [ 1.5780,  0.3232, -1.7097,  ..., -1.9191,  2.5495,  0.5766],\n",
              "        [ 1.1973, -0.0849,  1.0484,  ..., -0.7278, -2.0264, -1.2831]],\n",
              "       requires_grad=True)"
            ]
          },
          "metadata": {
            "tags": []
          },
          "execution_count": 102
        }
      ]
    },
    {
      "metadata": {
        "id": "masJTnMaQ51g",
        "colab_type": "code",
        "colab": {
          "base_uri": "https://localhost:8080/",
          "height": 867
        },
        "outputId": "3e83951d-0215-4d83-a6d6-16b8c7f567df"
      },
      "cell_type": "code",
      "source": [
        "for i in range(50):\n",
        "  y_pred=x.mm(w1).clamp(min=0).mm(w2)\n",
        "  loss=(y_pred-y).pow(2).sum()\n",
        "  print(\" {} : {}\".format(i,loss))\n",
        "  loss_s[i]=loss\n",
        "  loss_i[i]=i\n",
        "  loss.backward()\n",
        "  with torch.no_grad():\n",
        "        w1.grad=w1.grad.clamp(max=1000)\n",
        "        w2.grad=w2.grad.clamp(max=1000)\n",
        "        w1 -= learning_rate * w1.grad\n",
        "        w2 -= learning_rate * w2.grad\n",
        "        w1.grad.zero_()\n",
        "        w2.grad.zero_()"
      ],
      "execution_count": 103,
      "outputs": [
        {
          "output_type": "stream",
          "text": [
            " 0 : 25781444.0\n",
            " 1 : 20971960.0\n",
            " 2 : 18209756.0\n",
            " 3 : 15891067.0\n",
            " 4 : 13928339.0\n",
            " 5 : 12256360.0\n",
            " 6 : 10815402.0\n",
            " 7 : 9569097.0\n",
            " 8 : 8489371.0\n",
            " 9 : 7550770.0\n",
            " 10 : 6733311.0\n",
            " 11 : 6017101.0\n",
            " 12 : 5388000.0\n",
            " 13 : 4832162.0\n",
            " 14 : 4340548.0\n",
            " 15 : 3903201.5\n",
            " 16 : 3514302.5\n",
            " 17 : 3167842.75\n",
            " 18 : 2858308.5\n",
            " 19 : 2581393.25\n",
            " 20 : 2332820.75\n",
            " 21 : 2110174.75\n",
            " 22 : 1909939.0\n",
            " 23 : 1729836.625\n",
            " 24 : 1567691.125\n",
            " 25 : 1421633.375\n",
            " 26 : 1290058.75\n",
            " 27 : 1171356.0\n",
            " 28 : 1063988.25\n",
            " 29 : 966840.25\n",
            " 30 : 878907.8125\n",
            " 31 : 799219.875\n",
            " 32 : 726975.875\n",
            " 33 : 661521.875\n",
            " 34 : 602280.125\n",
            " 35 : 548543.375\n",
            " 36 : 499762.84375\n",
            " 37 : 455426.625\n",
            " 38 : 415292.625\n",
            " 39 : 378825.59375\n",
            " 40 : 345659.28125\n",
            " 41 : 315528.28125\n",
            " 42 : 288143.8125\n",
            " 43 : 263253.28125\n",
            " 44 : 240636.53125\n",
            " 45 : 220077.421875\n",
            " 46 : 201376.515625\n",
            " 47 : 184384.140625\n",
            " 48 : 168963.59375\n",
            " 49 : 154914.78125\n"
          ],
          "name": "stdout"
        }
      ]
    },
    {
      "metadata": {
        "id": "AwcCHlNxRqjL",
        "colab_type": "code",
        "colab": {
          "base_uri": "https://localhost:8080/",
          "height": 377
        },
        "outputId": "3c566b04-0ebe-4883-db4e-2026aa73ddbc"
      },
      "cell_type": "code",
      "source": [
        "plt.plot(loss_s,loss_i)"
      ],
      "execution_count": 104,
      "outputs": [
        {
          "output_type": "execute_result",
          "data": {
            "text/plain": [
              "[<matplotlib.lines.Line2D at 0x7f5bd6ba2518>]"
            ]
          },
          "metadata": {
            "tags": []
          },
          "execution_count": 104
        },
        {
          "output_type": "display_data",
          "data": {
            "image/png": "[encoded data removed]",
            "text/plain": [
              "<Figure size 576x396 with 1 Axes>"
            ]
          },
          "metadata": {
            "tags": []
          }
        }
      ]
    },
    {
      "metadata": {
        "id": "4kUBhloDUbBO",
        "colab_type": "code",
        "colab": {}
      },
      "cell_type": "code",
      "source": [
        ""
      ],
      "execution_count": 0,
      "outputs": []
    }
  ]
}